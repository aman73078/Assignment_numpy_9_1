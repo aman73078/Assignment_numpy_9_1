{
 "cells": [
  {
   "cell_type": "code",
   "execution_count": 1,
   "id": "e5fad126-aacb-49b7-9b62-db7e111d5dbf",
   "metadata": {},
   "outputs": [],
   "source": [
    "# Consider the below code to answer further questions:\n",
    "# import numpy as np\n",
    "# list_ = [ ‘1’ , ’2’ , ‘3’ , ‘4’ , ‘5’ ]\n",
    "# array_list = np.array(object = list_)"
   ]
  },
  {
   "cell_type": "code",
   "execution_count": 2,
   "id": "1035122a-184b-49f9-9efd-ba38525ba445",
   "metadata": {},
   "outputs": [],
   "source": [
    "# Q1. Is there any difference in the data type of variables list_ and array_list? If there is then \n",
    "#     write a code to print the data types of both the variables."
   ]
  },
  {
   "cell_type": "code",
   "execution_count": 3,
   "id": "e285fa4c-f61b-4548-a4ae-5617c6be9ca3",
   "metadata": {},
   "outputs": [],
   "source": [
    "import numpy as np\n",
    "list_ = [ '1' , '2', '3', '4', '5' ]\n",
    "array_list = np.array(object = list_)"
   ]
  },
  {
   "cell_type": "code",
   "execution_count": 4,
   "id": "54422355-b353-4ea7-9c19-a0dd9915e930",
   "metadata": {},
   "outputs": [
    {
     "data": {
      "text/plain": [
       "['1', '2', '3', '4', '5']"
      ]
     },
     "execution_count": 4,
     "metadata": {},
     "output_type": "execute_result"
    }
   ],
   "source": [
    "list_"
   ]
  },
  {
   "cell_type": "code",
   "execution_count": 5,
   "id": "fc31e8ed-64ed-4734-9935-c9a2a9f018d0",
   "metadata": {},
   "outputs": [
    {
     "data": {
      "text/plain": [
       "array(['1', '2', '3', '4', '5'], dtype='<U1')"
      ]
     },
     "execution_count": 5,
     "metadata": {},
     "output_type": "execute_result"
    }
   ],
   "source": [
    "array_list"
   ]
  },
  {
   "cell_type": "code",
   "execution_count": 6,
   "id": "69a96ca8-52d7-4e68-90dc-e9ff57f1ca18",
   "metadata": {},
   "outputs": [],
   "source": [
    "#           Yes, both are different to each other because the data type of first variable (list_) is list and the \n",
    "#   data type of second variable (array_list) is 1D array because we have put the variable 'list_' inside the \n",
    "#   np.array() which have changed into array.\n"
   ]
  },
  {
   "cell_type": "code",
   "execution_count": 7,
   "id": "ea9b6f96-41ef-4189-8f96-6f1fd887df8f",
   "metadata": {},
   "outputs": [
    {
     "data": {
      "text/plain": [
       "list"
      ]
     },
     "execution_count": 7,
     "metadata": {},
     "output_type": "execute_result"
    }
   ],
   "source": [
    "type(list_)"
   ]
  },
  {
   "cell_type": "code",
   "execution_count": 8,
   "id": "84fff027-1d85-4637-813d-268374417e3a",
   "metadata": {},
   "outputs": [
    {
     "data": {
      "text/plain": [
       "dtype('<U1')"
      ]
     },
     "execution_count": 8,
     "metadata": {},
     "output_type": "execute_result"
    }
   ],
   "source": [
    "array_list.dtype"
   ]
  },
  {
   "cell_type": "code",
   "execution_count": 9,
   "id": "11a5ec1a-a09d-4d4a-ad94-0ff142dd9b70",
   "metadata": {},
   "outputs": [],
   "source": [
    "# Note :- U1 means-  8-bit unsigned integer"
   ]
  },
  {
   "cell_type": "code",
   "execution_count": 10,
   "id": "1d3bc00c-49a6-4ed0-ab59-a8e115e2215c",
   "metadata": {},
   "outputs": [],
   "source": [
    "# Q2. Write a code to print the data type of each and every element of both the variables list_ and\n",
    "# arra_list."
   ]
  },
  {
   "cell_type": "code",
   "execution_count": 11,
   "id": "4df7a9d2-8ebc-453f-9499-e20020b20d4a",
   "metadata": {},
   "outputs": [
    {
     "name": "stdout",
     "output_type": "stream",
     "text": [
      "element : 1 and it's data type : <class 'str'>\n",
      "element : 2 and it's data type : <class 'str'>\n",
      "element : 3 and it's data type : <class 'str'>\n",
      "element : 4 and it's data type : <class 'str'>\n",
      "element : 5 and it's data type : <class 'str'>\n"
     ]
    }
   ],
   "source": [
    "# Ans- \n",
    "# for list_ \n",
    "for i in  list_:\n",
    "    print(\"element : {} and it's data type : {}\".format(i, type(i)))"
   ]
  },
  {
   "cell_type": "code",
   "execution_count": 12,
   "id": "93b411e8-7435-4cb5-9073-bbf93fd4e9a7",
   "metadata": {},
   "outputs": [
    {
     "name": "stdout",
     "output_type": "stream",
     "text": [
      "element : 1 and it's data type : <U1\n",
      "element : 2 and it's data type : <U1\n",
      "element : 3 and it's data type : <U1\n",
      "element : 4 and it's data type : <U1\n",
      "element : 5 and it's data type : <U1\n"
     ]
    }
   ],
   "source": [
    "# for array_list\n",
    "for i in array_list:\n",
    "        print(\"element : {} and it's data type : {}\".format(i, i.dtype))"
   ]
  },
  {
   "cell_type": "code",
   "execution_count": 13,
   "id": "1ba6abbe-9d08-4a2c-b75b-dd975cbcc37d",
   "metadata": {},
   "outputs": [
    {
     "data": {
      "text/plain": [
       "numpy.ndarray"
      ]
     },
     "execution_count": 13,
     "metadata": {},
     "output_type": "execute_result"
    }
   ],
   "source": [
    "type(array_list)"
   ]
  },
  {
   "cell_type": "code",
   "execution_count": 14,
   "id": "e79025b7-1910-4b0f-bcae-5a47c70ce06a",
   "metadata": {},
   "outputs": [],
   "source": [
    "# Q3. Considering the following changes in the variable, array_list:\n",
    "    # array_list = np.array(object = list_, dtype = int)\n",
    "\n",
    "    # Will there be any difference in the data type of the elements present in both the variables, list_ and\n",
    "    # arra_list? If so then print the data types of each and every element present in both the variables, list_\n",
    "    # and arra_list."
   ]
  },
  {
   "cell_type": "code",
   "execution_count": 15,
   "id": "c34a6240-c0ce-4325-9c7e-273fdc75b484",
   "metadata": {},
   "outputs": [],
   "source": [
    "# Ans-\n",
    "arra_list = np.array(object = list_, dtype = int)"
   ]
  },
  {
   "cell_type": "code",
   "execution_count": 16,
   "id": "322a9013-2258-4807-b5c4-8d54747a64ba",
   "metadata": {},
   "outputs": [
    {
     "data": {
      "text/plain": [
       "array([1, 2, 3, 4, 5])"
      ]
     },
     "execution_count": 16,
     "metadata": {},
     "output_type": "execute_result"
    }
   ],
   "source": [
    "arra_list"
   ]
  },
  {
   "cell_type": "code",
   "execution_count": 17,
   "id": "93034cf0-719e-4d8c-a5b4-997260b6ca8c",
   "metadata": {},
   "outputs": [
    {
     "name": "stdout",
     "output_type": "stream",
     "text": [
      "element : 1 and it's data type : <class 'str'>\n",
      "element : 2 and it's data type : <class 'str'>\n",
      "element : 3 and it's data type : <class 'str'>\n",
      "element : 4 and it's data type : <class 'str'>\n",
      "element : 5 and it's data type : <class 'str'>\n"
     ]
    }
   ],
   "source": [
    "for i in list_:\n",
    "    print(\"element : {} and it's data type : {}\".format(i, type(i)))"
   ]
  },
  {
   "cell_type": "code",
   "execution_count": 18,
   "id": "e88301f5-e59d-4f0c-a815-69d2718aa7b6",
   "metadata": {},
   "outputs": [
    {
     "name": "stdout",
     "output_type": "stream",
     "text": [
      "element : 1 and it's data type : int64\n",
      "element : 2 and it's data type : int64\n",
      "element : 3 and it's data type : int64\n",
      "element : 4 and it's data type : int64\n",
      "element : 5 and it's data type : int64\n"
     ]
    }
   ],
   "source": [
    "for i in arra_list:\n",
    "    print(\"element : {} and it's data type : {}\".format(i, i.dtype))"
   ]
  },
  {
   "cell_type": "code",
   "execution_count": 5,
   "id": "a02bac56-2609-4c34-9225-2b7a1d24666a",
   "metadata": {},
   "outputs": [],
   "source": [
    "# Consider the below code to answer further questions:\n",
    "# import numpy as np\n",
    "# num_list = [ [ 1 , 2 , 3 ] , [ 4 , 5 , 6 ] ]\n",
    "# num_array = np.array(object = num_list)"
   ]
  },
  {
   "cell_type": "code",
   "execution_count": 20,
   "id": "14582244-756e-423a-ac3d-3410b4149d5d",
   "metadata": {},
   "outputs": [],
   "source": [
    "import numpy as np\n",
    "num_list = [ [ 1 , 2 , 3 ] , [ 4 , 5 , 6 ] ]\n",
    "num_array = np.array(object = num_list)"
   ]
  },
  {
   "cell_type": "code",
   "execution_count": 21,
   "id": "97f55712-b745-4a8d-b079-301511ec16af",
   "metadata": {},
   "outputs": [],
   "source": [
    "# Q4. Write a code to find the following characteristics of variable, num_array:\n",
    "# (i) shape\n",
    "# (ii) size"
   ]
  },
  {
   "cell_type": "code",
   "execution_count": 32,
   "id": "6a4bb3a7-b0e7-4706-bc66-faf4726ed5cb",
   "metadata": {},
   "outputs": [
    {
     "data": {
      "text/plain": [
       "(2, 3)"
      ]
     },
     "execution_count": 32,
     "metadata": {},
     "output_type": "execute_result"
    }
   ],
   "source": [
    "np.shape(num_array)"
   ]
  },
  {
   "cell_type": "code",
   "execution_count": 33,
   "id": "f6e935ef-dbcb-4622-a008-3aa27d40842f",
   "metadata": {},
   "outputs": [
    {
     "data": {
      "text/plain": [
       "6"
      ]
     },
     "execution_count": 33,
     "metadata": {},
     "output_type": "execute_result"
    }
   ],
   "source": [
    "np.size(num_array)"
   ]
  },
  {
   "cell_type": "code",
   "execution_count": 7,
   "id": "f465c347-7144-4846-b26a-c5b51ddfe20f",
   "metadata": {},
   "outputs": [],
   "source": [
    "# Q5. Write a code to create numpy array of 3*3 matrix containing zeros only, using a numpy array\n",
    "# creation function.\n",
    "# [Hint: The size of the array will be 9 and the shape will be (3,3).]"
   ]
  },
  {
   "cell_type": "code",
   "execution_count": 34,
   "id": "34e2e830-77e7-469a-9cd0-eeab5cdadeba",
   "metadata": {},
   "outputs": [],
   "source": [
    "# Ans- \n",
    "zero_array = np.zeros((3,3))"
   ]
  },
  {
   "cell_type": "code",
   "execution_count": 35,
   "id": "acdb9677-a189-43ef-bbeb-3aeaf4a48983",
   "metadata": {},
   "outputs": [
    {
     "data": {
      "text/plain": [
       "array([[0., 0., 0.],\n",
       "       [0., 0., 0.],\n",
       "       [0., 0., 0.]])"
      ]
     },
     "execution_count": 35,
     "metadata": {},
     "output_type": "execute_result"
    }
   ],
   "source": [
    "zero_array"
   ]
  },
  {
   "cell_type": "code",
   "execution_count": 38,
   "id": "35182855-07ba-4ab5-95a3-d89e65a551d4",
   "metadata": {},
   "outputs": [],
   "source": [
    "# Q6. Create an identity matrix of shape (5,5) using numpy functions?\n",
    "# [Hint: An identity matrix is a matrix containing 1 diagonally and other elements will be 0.]"
   ]
  },
  {
   "cell_type": "code",
   "execution_count": 48,
   "id": "0c71adda-89be-46f7-8a1c-5d865a50482a",
   "metadata": {},
   "outputs": [],
   "source": [
    "# Ans- \n",
    "identity_array = np.eye(5,5)"
   ]
  },
  {
   "cell_type": "code",
   "execution_count": 47,
   "id": "a70c0ee0-1734-4a95-bc66-6b89e7ea95bb",
   "metadata": {},
   "outputs": [
    {
     "data": {
      "text/plain": [
       "array([[1., 0., 0., 0., 0.],\n",
       "       [0., 1., 0., 0., 0.],\n",
       "       [0., 0., 1., 0., 0.],\n",
       "       [0., 0., 0., 1., 0.],\n",
       "       [0., 0., 0., 0., 1.]])"
      ]
     },
     "execution_count": 47,
     "metadata": {},
     "output_type": "execute_result"
    }
   ],
   "source": [
    "idetity_array"
   ]
  },
  {
   "cell_type": "code",
   "execution_count": null,
   "id": "81cbb2cc-9d7a-4dea-b323-19cff8704157",
   "metadata": {},
   "outputs": [],
   "source": []
  }
 ],
 "metadata": {
  "kernelspec": {
   "display_name": "Python 3 (ipykernel)",
   "language": "python",
   "name": "python3"
  },
  "language_info": {
   "codemirror_mode": {
    "name": "ipython",
    "version": 3
   },
   "file_extension": ".py",
   "mimetype": "text/x-python",
   "name": "python",
   "nbconvert_exporter": "python",
   "pygments_lexer": "ipython3",
   "version": "3.10.8"
  }
 },
 "nbformat": 4,
 "nbformat_minor": 5
}
